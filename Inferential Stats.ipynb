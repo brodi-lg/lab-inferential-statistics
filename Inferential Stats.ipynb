{
 "cells": [
  {
   "cell_type": "markdown",
   "id": "f275dcb7-e923-4222-bd86-36eb8479d15d",
   "metadata": {},
   "source": [
    "# Lab | Inferential statistics\n",
    "\n",
    "\n",
    "### Instructions\n",
    "\n",
    "1. It is assumed that the mean systolic blood pressure is `μ = 120 mm Hg`. In the Honolulu Heart Study, a sample of `n = 100` people had an average systolic blood pressure of 130.1 mm Hg with a standard deviation of 21.21 mm Hg. Is the group significantly different (with respect to systolic blood pressure!) from the regular population?\n",
    "\n",
    "   - Set up the hypothesis test.\n",
    "   - Write down all the steps followed for setting up the test.\n",
    "   - Calculate the test statistic by hand and also code it in Python. It should be 4.76190. We will take a look at how to make decisions based on this calculated value.\n",
    "\n",
    "2. If you finished the previous question, please go through the code for `principal_component_analysis_example` provided in the `files_for_lab` folder .\n",
    "\n",
    "steps: Stating the null and alternative hypotheses, choosing the level of significance, selecting the appropriate test statistic and establishing the critical region, collecting data, making a decision, and drawing conclusions about the population (correct)\n",
    "\n"
   ]
  },
  {
   "cell_type": "code",
   "execution_count": 2,
   "id": "5e5b50eb-4f2a-468b-be59-be8a001870ff",
   "metadata": {},
   "outputs": [],
   "source": [
    "# Libraries\n",
    "import math \n",
    "import pandas as pd # manipulate dataframes\n",
    "import numpy as np # numerical python\n",
    "import matplotlib.pyplot as plt # viz\n",
    "\n",
    "# New libraries\n",
    "import scipy.stats as st # stats\n",
    "import statsmodels.api as sm\n",
    "import statsmodels.formula.api as smf"
   ]
  },
  {
   "cell_type": "code",
   "execution_count": 18,
   "id": "065eef25-127a-4411-855e-40c2c27dbaa4",
   "metadata": {},
   "outputs": [
    {
     "name": "stdout",
     "output_type": "stream",
     "text": [
      "Null Hypothesis (H₀): the mean systolic blood pressure is 120 mm Hg`\n",
      "Alternate Hypothesis (H₁): the mean systolic blood pressure is not 120mm Hg`\n"
     ]
    }
   ],
   "source": [
    "#hypotheses:\n",
    "null_hypothesis = \"the mean systolic blood pressure is 120 mm Hg`\"\n",
    "alt_hypothesis = \"the mean systolic blood pressure is not 120mm Hg`\"\n",
    "\n",
    "print(f\"Null Hypothesis (H₀): {null_hypothesis}\")\n",
    "print(f\"Alternate Hypothesis (H₁): {alt_hypothesis}\")"
   ]
  },
  {
   "cell_type": "code",
   "execution_count": 4,
   "id": "9fd14b4f-1a87-4c0e-81bd-2d1e2e926fc8",
   "metadata": {},
   "outputs": [
    {
     "name": "stdout",
     "output_type": "stream",
     "text": [
      "Level of Significance (α): 0.05\n"
     ]
    }
   ],
   "source": [
    "# Significance level\n",
    "alpha = 0.05\n",
    "print(f\"Level of Significance (α): {alpha}\")"
   ]
  },
  {
   "cell_type": "code",
   "execution_count": 22,
   "id": "4c1b1392-576e-411e-a9e0-46fb388d106e",
   "metadata": {},
   "outputs": [],
   "source": [
    "\n",
    "sample_mean = 130.1                #sample mean\n",
    "std =21.21  #standard deviation of sample\n",
    "mu = 120                      #population mean /null hypothesis mean               \n",
    "pop_std = 12\n",
    "n = 100"
   ]
  },
  {
   "cell_type": "code",
   "execution_count": 26,
   "id": "43fa3282-ac7e-4491-8c91-f98910a86872",
   "metadata": {},
   "outputs": [
    {
     "name": "stdout",
     "output_type": "stream",
     "text": [
      "Test Statistic (t): 4.76\n"
     ]
    }
   ],
   "source": [
    "#T-statistic \n",
    "\n",
    "t_stat = (sample_mean - mu) / (std/ np.sqrt(n))\n",
    "print(f\"Test Statistic (t): {t_stat:.2f}\")"
   ]
  },
  {
   "cell_type": "code",
   "execution_count": null,
   "id": "468ef7fc-4d1a-42aa-86a2-5c036985dc62",
   "metadata": {},
   "outputs": [],
   "source": []
  }
 ],
 "metadata": {
  "kernelspec": {
   "display_name": "Python 3 (ipykernel)",
   "language": "python",
   "name": "python3"
  },
  "language_info": {
   "codemirror_mode": {
    "name": "ipython",
    "version": 3
   },
   "file_extension": ".py",
   "mimetype": "text/x-python",
   "name": "python",
   "nbconvert_exporter": "python",
   "pygments_lexer": "ipython3",
   "version": "3.12.4"
  }
 },
 "nbformat": 4,
 "nbformat_minor": 5
}
